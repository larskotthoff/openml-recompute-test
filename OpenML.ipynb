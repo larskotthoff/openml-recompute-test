{
 "metadata": {
  "kernelspec": {
   "display_name": "R",
   "language": "R",
   "name": "ir"
  },
  "language_info": {
   "codemirror_mode": "r",
   "file_extension": ".r",
   "mimetype": "text/x-r-source",
   "name": "R",
   "pygments_lexer": "r",
   "version": "3.2.1"
  }
 },
 "nbformat": 3,
 "nbformat_minor": 0,
 "worksheets": [
  {
   "cells": [
    {
     "cell_type": "code",
     "collapsed": false,
     "input": [
      "library(OpenML)\n",
      "library(mlr)\n",
      "\n",
      "saveOMLConfig(apikey = \"ADD_YOUR_API_KEY_HERE\")\n",
      "\n",
      "tl = listOMLTasks()\n",
      "task.ids = subset(tl, NumberOfFeatures < 10 & NumberOfFeatures > 3 &\n",
      "  NumberOfInstances < 100 & NumberOfClasses == 2 &\n",
      "  NumberOfMissingValues == 0, select = task_id, drop = TRUE)\n",
      "task.ids = sample(task.ids, 1)\n",
      "\n",
      "metrics = listOMLRunEvaluations(id)\n",
      "plot(ecdf(metrics$predictive.accuracy))"
     ],
     "outputs": [
     ],
     "prompt_number": 1
    }
   ]
  }
 ]
}
