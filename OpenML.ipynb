{
 "metadata": {
  "name": "",
  "signature": "sha256:5d3fcf8864bd6c7730a7e45a6a391d72464b684ba6b07d044de909ed9e5c659f"
 },
 "nbformat": 3,
 "nbformat_minor": 0,
 "worksheets": [
  {
   "cells": [
    {
     "cell_type": "code",
     "collapsed": false,
     "input": [
      "library(OpenML)\n",
      "library(mlr)\n",
      "\n",
      "saveOMLConfig(apikey = \"ADD_YOUR_API_KEY_HERE\")\n",
      "\n",
      "tl = listOMLTasks()\n",
      "task.ids = subset(tl, NumberOfFeatures < 10 & NumberOfFeatures > 3 &\n",
      "  NumberOfInstances < 100 & NumberOfClasses == 2 &\n",
      "  NumberOfMissingValues == 0, select = task_id, drop = TRUE)\n",
      "task.ids = sample(task.ids, 1)\n",
      "\n",
      "metrics = listOMLRunEvaluations(id)\n",
      "plot(ecdf(metrics$predictive.accuracy))"
     ],
     "language": "python",
     "metadata": {},
     "outputs": []
    }
   ],
   "metadata": {}
  }
 ]
}