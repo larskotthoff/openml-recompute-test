{
 "metadata": {
  "name": "",
  "signature": "sha256:b2f6344fb105536ba939ce38f4bea45649df02f73971faea24a03745550ed0d7"
 },
 "nbformat": 3,
 "nbformat_minor": 0,
 "worksheets": [
  {
   "cells": [
    {
     "cell_type": "code",
     "collapsed": false,
     "input": [
      "library(OpenML)\n",
      "library(mlr)\n",
      "\n",
      "saveOMLConfig(apikey = \"ADD_YOUR_API_KEY_HERE\")\n",
      "\n",
      "tl = listOMLTasks()\n",
      "task.ids = subset(tl, NumberOfFeatures < 10 & NumberOfFeatures > 3 &\n",
      "  NumberOfInstances < 100 & NumberOfClasses == 2 &\n",
      "  NumberOfMissingValues == 0, select = task_id, drop = TRUE)\n",
      "task.ids = sample(task.ids, 1)\n",
      "\n",
      "metrics = listOMLRunEvaluations(id)\n",
      "plot(ecdf(metrics$predictive.accuracy))"
     ],
     "language": "R",
     "metadata": {},
     "outputs": [
     ],
     "prompt_number": 1
    }
   ],
   "metadata": {}
  }
 ]
}
